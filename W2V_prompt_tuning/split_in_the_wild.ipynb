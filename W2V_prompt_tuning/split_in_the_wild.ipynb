{
 "cells": [
  {
   "cell_type": "code",
   "execution_count": 8,
   "metadata": {},
   "outputs": [],
   "source": [
    "import os\n",
    "import re\n",
    "import shutil\n",
    "import numpy as np\n",
    "import pandas as pd \n",
    "from tqdm import tqdm"
   ]
  },
  {
   "cell_type": "code",
   "execution_count": 2,
   "metadata": {},
   "outputs": [
    {
     "name": "stdout",
     "output_type": "stream",
     "text": [
      "31781\n"
     ]
    }
   ],
   "source": [
    "root_name = '/data/h-oiso/in_the_wild/'\n",
    "print(len(os.listdir(root_name)))"
   ]
  },
  {
   "cell_type": "code",
   "execution_count": 11,
   "metadata": {},
   "outputs": [
    {
     "data": {
      "text/html": [
       "<div>\n",
       "<style scoped>\n",
       "    .dataframe tbody tr th:only-of-type {\n",
       "        vertical-align: middle;\n",
       "    }\n",
       "\n",
       "    .dataframe tbody tr th {\n",
       "        vertical-align: top;\n",
       "    }\n",
       "\n",
       "    .dataframe thead th {\n",
       "        text-align: right;\n",
       "    }\n",
       "</style>\n",
       "<table border=\"1\" class=\"dataframe\">\n",
       "  <thead>\n",
       "    <tr style=\"text-align: right;\">\n",
       "      <th></th>\n",
       "      <th>utt</th>\n",
       "      <th>target</th>\n",
       "      <th>label</th>\n",
       "    </tr>\n",
       "  </thead>\n",
       "  <tbody>\n",
       "    <tr>\n",
       "      <th>0</th>\n",
       "      <td>0.wav</td>\n",
       "      <td>Alec Guinness</td>\n",
       "      <td>spoof</td>\n",
       "    </tr>\n",
       "    <tr>\n",
       "      <th>1</th>\n",
       "      <td>1.wav</td>\n",
       "      <td>Alec Guinness</td>\n",
       "      <td>spoof</td>\n",
       "    </tr>\n",
       "    <tr>\n",
       "      <th>2</th>\n",
       "      <td>2.wav</td>\n",
       "      <td>Barack Obama</td>\n",
       "      <td>spoof</td>\n",
       "    </tr>\n",
       "    <tr>\n",
       "      <th>3</th>\n",
       "      <td>3.wav</td>\n",
       "      <td>Alec Guinness</td>\n",
       "      <td>spoof</td>\n",
       "    </tr>\n",
       "    <tr>\n",
       "      <th>4</th>\n",
       "      <td>4.wav</td>\n",
       "      <td>Christopher Hitchens</td>\n",
       "      <td>bonafide</td>\n",
       "    </tr>\n",
       "    <tr>\n",
       "      <th>...</th>\n",
       "      <td>...</td>\n",
       "      <td>...</td>\n",
       "      <td>...</td>\n",
       "    </tr>\n",
       "    <tr>\n",
       "      <th>31774</th>\n",
       "      <td>31774.wav</td>\n",
       "      <td>Boris Johnson</td>\n",
       "      <td>bonafide</td>\n",
       "    </tr>\n",
       "    <tr>\n",
       "      <th>31775</th>\n",
       "      <td>31775.wav</td>\n",
       "      <td>Donald Trump</td>\n",
       "      <td>bonafide</td>\n",
       "    </tr>\n",
       "    <tr>\n",
       "      <th>31776</th>\n",
       "      <td>31776.wav</td>\n",
       "      <td>Donald Trump</td>\n",
       "      <td>bonafide</td>\n",
       "    </tr>\n",
       "    <tr>\n",
       "      <th>31777</th>\n",
       "      <td>31777.wav</td>\n",
       "      <td>Alan Watts</td>\n",
       "      <td>bonafide</td>\n",
       "    </tr>\n",
       "    <tr>\n",
       "      <th>31778</th>\n",
       "      <td>31778.wav</td>\n",
       "      <td>Arnold Schwarzenegger</td>\n",
       "      <td>spoof</td>\n",
       "    </tr>\n",
       "  </tbody>\n",
       "</table>\n",
       "<p>31779 rows × 3 columns</p>\n",
       "</div>"
      ],
      "text/plain": [
       "             utt                 target     label\n",
       "0          0.wav          Alec Guinness     spoof\n",
       "1          1.wav          Alec Guinness     spoof\n",
       "2          2.wav           Barack Obama     spoof\n",
       "3          3.wav          Alec Guinness     spoof\n",
       "4          4.wav   Christopher Hitchens  bonafide\n",
       "...          ...                    ...       ...\n",
       "31774  31774.wav          Boris Johnson  bonafide\n",
       "31775  31775.wav           Donald Trump  bonafide\n",
       "31776  31776.wav           Donald Trump  bonafide\n",
       "31777  31777.wav             Alan Watts  bonafide\n",
       "31778  31778.wav  Arnold Schwarzenegger     spoof\n",
       "\n",
       "[31779 rows x 3 columns]"
      ]
     },
     "execution_count": 11,
     "metadata": {},
     "output_type": "execute_result"
    }
   ],
   "source": [
    "original_meta = pd.read_csv(os.path.join(root_name, 'meta.csv'))\n",
    "original_meta.replace('bona-fide', 'bonafide', inplace=True)\n",
    "original_meta.rename(columns={'file': 'utt', 'speaker': 'target'}, inplace=True)\n",
    "original_meta"
   ]
  },
  {
   "cell_type": "code",
   "execution_count": 12,
   "metadata": {},
   "outputs": [],
   "source": [
    "columns = ['-', 'utt', 'language', 'source', 'method', 'target', 'label', 'phase']"
   ]
  },
  {
   "cell_type": "code",
   "execution_count": 13,
   "metadata": {},
   "outputs": [],
   "source": [
    "def delete_ext(series):\n",
    "    for i, filename in tqdm(enumerate(series)):\n",
    "        series[i] = filename[:-4]\n",
    "    return series\n",
    "\n",
    "def delete_space(series):\n",
    "    for i, name in tqdm(enumerate(series)):\n",
    "        series[i] = name.replace(\" \", \"_\")\n",
    "    return series"
   ]
  },
  {
   "cell_type": "code",
   "execution_count": 14,
   "metadata": {},
   "outputs": [
    {
     "name": "stderr",
     "output_type": "stream",
     "text": [
      "31779it [00:16, 1954.97it/s]\n",
      "31779it [00:15, 2025.72it/s]\n"
     ]
    }
   ],
   "source": [
    "original_meta['-'] = ['-']*len(original_meta) # first col\n",
    "delete_ext(original_meta['utt']) # utt\n",
    "original_meta['language'] = 'ENG' # language\n",
    "original_meta['source'] = ['-']*len(original_meta) # source\n",
    "original_meta['method'] = ['-']*len(original_meta) # method\n",
    "delete_space(original_meta['target']) # target\n",
    "# label is ok\n",
    "original_meta['phase'] = ['-']*len(original_meta) # phase\n",
    "original_meta = original_meta.reindex(columns=columns)"
   ]
  },
  {
   "cell_type": "code",
   "execution_count": 15,
   "metadata": {},
   "outputs": [
    {
     "data": {
      "text/html": [
       "<div>\n",
       "<style scoped>\n",
       "    .dataframe tbody tr th:only-of-type {\n",
       "        vertical-align: middle;\n",
       "    }\n",
       "\n",
       "    .dataframe tbody tr th {\n",
       "        vertical-align: top;\n",
       "    }\n",
       "\n",
       "    .dataframe thead th {\n",
       "        text-align: right;\n",
       "    }\n",
       "</style>\n",
       "<table border=\"1\" class=\"dataframe\">\n",
       "  <thead>\n",
       "    <tr style=\"text-align: right;\">\n",
       "      <th></th>\n",
       "      <th>-</th>\n",
       "      <th>utt</th>\n",
       "      <th>language</th>\n",
       "      <th>source</th>\n",
       "      <th>method</th>\n",
       "      <th>target</th>\n",
       "      <th>label</th>\n",
       "      <th>phase</th>\n",
       "    </tr>\n",
       "  </thead>\n",
       "  <tbody>\n",
       "    <tr>\n",
       "      <th>0</th>\n",
       "      <td>-</td>\n",
       "      <td>0</td>\n",
       "      <td>ENG</td>\n",
       "      <td>-</td>\n",
       "      <td>-</td>\n",
       "      <td>Alec_Guinness</td>\n",
       "      <td>spoof</td>\n",
       "      <td>-</td>\n",
       "    </tr>\n",
       "    <tr>\n",
       "      <th>1</th>\n",
       "      <td>-</td>\n",
       "      <td>1</td>\n",
       "      <td>ENG</td>\n",
       "      <td>-</td>\n",
       "      <td>-</td>\n",
       "      <td>Alec_Guinness</td>\n",
       "      <td>spoof</td>\n",
       "      <td>-</td>\n",
       "    </tr>\n",
       "    <tr>\n",
       "      <th>2</th>\n",
       "      <td>-</td>\n",
       "      <td>2</td>\n",
       "      <td>ENG</td>\n",
       "      <td>-</td>\n",
       "      <td>-</td>\n",
       "      <td>Barack_Obama</td>\n",
       "      <td>spoof</td>\n",
       "      <td>-</td>\n",
       "    </tr>\n",
       "    <tr>\n",
       "      <th>3</th>\n",
       "      <td>-</td>\n",
       "      <td>3</td>\n",
       "      <td>ENG</td>\n",
       "      <td>-</td>\n",
       "      <td>-</td>\n",
       "      <td>Alec_Guinness</td>\n",
       "      <td>spoof</td>\n",
       "      <td>-</td>\n",
       "    </tr>\n",
       "    <tr>\n",
       "      <th>4</th>\n",
       "      <td>-</td>\n",
       "      <td>4</td>\n",
       "      <td>ENG</td>\n",
       "      <td>-</td>\n",
       "      <td>-</td>\n",
       "      <td>Christopher_Hitchens</td>\n",
       "      <td>bonafide</td>\n",
       "      <td>-</td>\n",
       "    </tr>\n",
       "    <tr>\n",
       "      <th>...</th>\n",
       "      <td>...</td>\n",
       "      <td>...</td>\n",
       "      <td>...</td>\n",
       "      <td>...</td>\n",
       "      <td>...</td>\n",
       "      <td>...</td>\n",
       "      <td>...</td>\n",
       "      <td>...</td>\n",
       "    </tr>\n",
       "    <tr>\n",
       "      <th>31774</th>\n",
       "      <td>-</td>\n",
       "      <td>31774</td>\n",
       "      <td>ENG</td>\n",
       "      <td>-</td>\n",
       "      <td>-</td>\n",
       "      <td>Boris_Johnson</td>\n",
       "      <td>bonafide</td>\n",
       "      <td>-</td>\n",
       "    </tr>\n",
       "    <tr>\n",
       "      <th>31775</th>\n",
       "      <td>-</td>\n",
       "      <td>31775</td>\n",
       "      <td>ENG</td>\n",
       "      <td>-</td>\n",
       "      <td>-</td>\n",
       "      <td>Donald_Trump</td>\n",
       "      <td>bonafide</td>\n",
       "      <td>-</td>\n",
       "    </tr>\n",
       "    <tr>\n",
       "      <th>31776</th>\n",
       "      <td>-</td>\n",
       "      <td>31776</td>\n",
       "      <td>ENG</td>\n",
       "      <td>-</td>\n",
       "      <td>-</td>\n",
       "      <td>Donald_Trump</td>\n",
       "      <td>bonafide</td>\n",
       "      <td>-</td>\n",
       "    </tr>\n",
       "    <tr>\n",
       "      <th>31777</th>\n",
       "      <td>-</td>\n",
       "      <td>31777</td>\n",
       "      <td>ENG</td>\n",
       "      <td>-</td>\n",
       "      <td>-</td>\n",
       "      <td>Alan_Watts</td>\n",
       "      <td>bonafide</td>\n",
       "      <td>-</td>\n",
       "    </tr>\n",
       "    <tr>\n",
       "      <th>31778</th>\n",
       "      <td>-</td>\n",
       "      <td>31778</td>\n",
       "      <td>ENG</td>\n",
       "      <td>-</td>\n",
       "      <td>-</td>\n",
       "      <td>Arnold_Schwarzenegger</td>\n",
       "      <td>spoof</td>\n",
       "      <td>-</td>\n",
       "    </tr>\n",
       "  </tbody>\n",
       "</table>\n",
       "<p>31779 rows × 8 columns</p>\n",
       "</div>"
      ],
      "text/plain": [
       "       -    utt language source method                 target     label phase\n",
       "0      -      0      ENG      -      -          Alec_Guinness     spoof     -\n",
       "1      -      1      ENG      -      -          Alec_Guinness     spoof     -\n",
       "2      -      2      ENG      -      -           Barack_Obama     spoof     -\n",
       "3      -      3      ENG      -      -          Alec_Guinness     spoof     -\n",
       "4      -      4      ENG      -      -   Christopher_Hitchens  bonafide     -\n",
       "...   ..    ...      ...    ...    ...                    ...       ...   ...\n",
       "31774  -  31774      ENG      -      -          Boris_Johnson  bonafide     -\n",
       "31775  -  31775      ENG      -      -           Donald_Trump  bonafide     -\n",
       "31776  -  31776      ENG      -      -           Donald_Trump  bonafide     -\n",
       "31777  -  31777      ENG      -      -             Alan_Watts  bonafide     -\n",
       "31778  -  31778      ENG      -      -  Arnold_Schwarzenegger     spoof     -\n",
       "\n",
       "[31779 rows x 8 columns]"
      ]
     },
     "execution_count": 15,
     "metadata": {},
     "output_type": "execute_result"
    }
   ],
   "source": [
    "original_meta"
   ]
  },
  {
   "cell_type": "code",
   "execution_count": 16,
   "metadata": {},
   "outputs": [
    {
     "data": {
      "text/plain": [
       "bonafide    19963\n",
       "spoof       11816\n",
       "Name: label, dtype: int64"
      ]
     },
     "execution_count": 16,
     "metadata": {},
     "output_type": "execute_result"
    }
   ],
   "source": [
    "original_meta['label'].value_counts()"
   ]
  },
  {
   "cell_type": "code",
   "execution_count": 17,
   "metadata": {},
   "outputs": [],
   "source": [
    "train, dev, test = np.split(original_meta.sample(frac=1), [int(.4*len(original_meta)), int(.6*len(original_meta))])"
   ]
  },
  {
   "cell_type": "code",
   "execution_count": 18,
   "metadata": {},
   "outputs": [
    {
     "data": {
      "text/plain": [
       "bonafide    7935\n",
       "spoof       4776\n",
       "Name: label, dtype: int64"
      ]
     },
     "execution_count": 18,
     "metadata": {},
     "output_type": "execute_result"
    }
   ],
   "source": [
    "train['label'].value_counts()"
   ]
  },
  {
   "cell_type": "code",
   "execution_count": 19,
   "metadata": {},
   "outputs": [
    {
     "data": {
      "text/plain": [
       "bonafide    3970\n",
       "spoof       2386\n",
       "Name: label, dtype: int64"
      ]
     },
     "execution_count": 19,
     "metadata": {},
     "output_type": "execute_result"
    }
   ],
   "source": [
    "dev['label'].value_counts()"
   ]
  },
  {
   "cell_type": "code",
   "execution_count": 20,
   "metadata": {},
   "outputs": [
    {
     "data": {
      "text/plain": [
       "bonafide    8058\n",
       "spoof       4654\n",
       "Name: label, dtype: int64"
      ]
     },
     "execution_count": 20,
     "metadata": {},
     "output_type": "execute_result"
    }
   ],
   "source": [
    "test['label'].value_counts()"
   ]
  },
  {
   "cell_type": "code",
   "execution_count": 21,
   "metadata": {},
   "outputs": [],
   "source": [
    "train['phase'] = ['train']*len(train)\n",
    "dev['phase'] = ['dev']*len(dev)\n",
    "test['phase'] = ['test']*len(test)"
   ]
  },
  {
   "cell_type": "code",
   "execution_count": 22,
   "metadata": {},
   "outputs": [],
   "source": [
    "cm_path = '/home/h-oiso/AudioFake/SSL_Anti-spoofing/LA-keys-stage-1/keys/CM'\n",
    "train.to_csv(os.path.join(cm_path, 'train_metadata_In_The_Wild.txt'), sep=' ', header=None, index=False)\n",
    "dev.to_csv(os.path.join(cm_path, 'dev_metadata_In_The_Wild.txt'), sep=' ', header=None, index=False)\n",
    "test.to_csv(os.path.join(cm_path, 'test_metadata_In_The_Wild.txt'), sep=' ', header=None, index=False)"
   ]
  },
  {
   "cell_type": "code",
   "execution_count": null,
   "metadata": {},
   "outputs": [],
   "source": []
  }
 ],
 "metadata": {
  "kernelspec": {
   "display_name": "base",
   "language": "python",
   "name": "python3"
  },
  "language_info": {
   "codemirror_mode": {
    "name": "ipython",
    "version": 3
   },
   "file_extension": ".py",
   "mimetype": "text/x-python",
   "name": "python",
   "nbconvert_exporter": "python",
   "pygments_lexer": "ipython3",
   "version": "3.8.8"
  },
  "orig_nbformat": 4
 },
 "nbformat": 4,
 "nbformat_minor": 2
}
